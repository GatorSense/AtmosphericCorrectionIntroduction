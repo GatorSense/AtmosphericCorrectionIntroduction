{
 "cells": [
  {
   "cell_type": "markdown",
   "metadata": {},
   "source": [
    "# Introduction to Atmospheric Correction\n",
    "### By Susan Meerdink<sup>1</sup>\n",
    "\n",
    "<sup>1</sup>The Machine Learning and Sensing Lab, Electrical and Computer Engineering, University of Florida, Gainesville, FL 32611\n",
    "<url>https://faculty.eng.ufl.edu/machine-learning/</url>"
   ]
  },
  {
   "cell_type": "markdown",
   "metadata": {},
   "source": [
    "**Electromagnetic Spectrum Refresher**\n",
    "\n",
    "* Term used to describe the entire range of light that exists. Generally for remote sensing imagery we work with the visible shortwave infrared (VSWIR) which ranges from 350 to 2500 nm. However, it can also apply to the thermal infrared (TIR) which ranges from 2500 nm to 15 um. Atmospheric correction can be applied to imagery measuring the VSWIR and TIR, but this introduction will focus on the VSWIR.\n",
    "<img src=\"Picture01.png\" alt=\"Electromagnetic Spectrum\" style=\"width: 600px;\"/>"
   ]
  },
  {
   "cell_type": "markdown",
   "metadata": {},
   "source": [
    "**Remote Sensing Basics**\n",
    "\n",
    "* Electromagnetic radiation is the dominant way evergy is transported from the sun to the earth. This energy passes from the sun through the atmosphere, where it is absorbed and reflected by particles/gasses/aerosols in the atmosphere. The energy then interacts with the earth's surface, also absorbing and reflecting biophysical and chemical properties of that surface. Energy is then reflected back through the atmosphere, where it is again influenced by atmopsheric components, to ultimately be measured by the sensor. \n",
    "\n",
    "NOTE: This is for passive remote sensing. Active remote sensing does not rely on the sun for energy, but generates its own energy source (e.g., lidar)\n",
    "<img src=\"Picture02.png\" alt=\"RS Basics\" style=\"width: 600px;\"/>"
   ]
  },
  {
   "cell_type": "markdown",
   "metadata": {},
   "source": [
    "**Remote Sensing Data Pipeline**\n",
    "In remote sensing, imagery can be delivered in multiple products. This terminology can vary across sensors, but for Landsat they are referred to as Levels so you would have Level 1B, Level 2, Level 3. Depending on your research question, you would need a different product level although for terrestrial applications reflectance products are the most common. Below is an explanation of that product pipeline.\n",
    "\n",
    "* _Digitial Numbers (DNs)_: this data product is a quantized digital number of the amount of energy reflected from the surface and measured by a sensor. These values are sensor dependent and not useful for science because they are not physically meaning units. To convert from DNs to radiance, a gain and offset per band are applied to the data which are provided by the sensor designers or engineers. \n",
    "* _Radiance_: this data product is the amount of radiation (or energy) per pixel which has the units of µW/(cm^2*sr*nm). This data product includes artifacts/noise from the atmosphere due to scattering and absorption. \n",
    "* _Reflectance_: this data product is the proportion of total radiation from the sun striking a surface and is reflected back to the sensor. The units of this product is 0 - 100% reflectance since it is a proportion to the total amount of radiation available. This data product is created AFTER atmospheric correction to remove any artifacts/noise from the atmospheric components. \n",
    "\n",
    "Notes:\n",
    "* The above is assuming that we are interested in the surface of the earth. There are radiance and reflectance products for the Top-of-atmosphere (TOA) which is the amount of radiation or reflectance measured by a space-based sensor flying higher than the earth's atmosphere. These products include contributions of the atmopshere including clouds, atmopsheric aerosols, and gases. This is often done to avoid performing atmospheric correction since it can be a complicated, time consuming process."
   ]
  },
  {
   "cell_type": "code",
   "execution_count": null,
   "metadata": {},
   "outputs": [],
   "source": []
  },
  {
   "cell_type": "code",
   "execution_count": 1,
   "metadata": {},
   "outputs": [
    {
     "ename": "ModuleNotFoundError",
     "evalue": "No module named 'loadmat'",
     "output_type": "error",
     "traceback": [
      "\u001b[1;31m---------------------------------------------------------------------------\u001b[0m",
      "\u001b[1;31mModuleNotFoundError\u001b[0m                       Traceback (most recent call last)",
      "\u001b[1;32m<ipython-input-1-648f64d5c820>\u001b[0m in \u001b[0;36m<module>\u001b[1;34m\u001b[0m\n\u001b[0;32m      3\u001b[0m \u001b[1;32mimport\u001b[0m \u001b[0mos\u001b[0m\u001b[1;33m.\u001b[0m\u001b[0mpath\u001b[0m\u001b[1;33m\u001b[0m\u001b[1;33m\u001b[0m\u001b[0m\n\u001b[0;32m      4\u001b[0m \u001b[1;32mimport\u001b[0m \u001b[0mscipy\u001b[0m\u001b[1;33m.\u001b[0m\u001b[0mio\u001b[0m\u001b[1;33m\u001b[0m\u001b[1;33m\u001b[0m\u001b[0m\n\u001b[1;32m----> 5\u001b[1;33m \u001b[1;32mfrom\u001b[0m \u001b[0mloadmat\u001b[0m \u001b[1;32mimport\u001b[0m \u001b[0mloadmat\u001b[0m\u001b[1;33m\u001b[0m\u001b[1;33m\u001b[0m\u001b[0m\n\u001b[0m\u001b[0;32m      6\u001b[0m \u001b[1;33m\u001b[0m\u001b[0m\n\u001b[0;32m      7\u001b[0m \u001b[1;32mimport\u001b[0m \u001b[0mmatplotlib\u001b[0m\u001b[1;33m.\u001b[0m\u001b[0mpyplot\u001b[0m \u001b[1;32mas\u001b[0m \u001b[0mplt\u001b[0m\u001b[1;33m\u001b[0m\u001b[1;33m\u001b[0m\u001b[0m\n",
      "\u001b[1;31mModuleNotFoundError\u001b[0m: No module named 'loadmat'"
     ]
    }
   ],
   "source": [
    "# imports and setup\n",
    "import numpy as np\n",
    "import os.path\n",
    "import scipy.io\n",
    "from loadmat import loadmat\n",
    "\n",
    "import matplotlib.pyplot as plt\n",
    "import matplotlib as mpl\n",
    "%matplotlib inline\n",
    "default_dpi = mpl.rcParamsDefault['figure.dpi']\n",
    "mpl.rcParams['figure.dpi'] = default_dpi*2 # run this to make figures larger, often have to execute block multiple times for it to take"
   ]
  }
 ],
 "metadata": {
  "kernelspec": {
   "display_name": "Python 3",
   "language": "python",
   "name": "python3"
  },
  "language_info": {
   "codemirror_mode": {
    "name": "ipython",
    "version": 3
   },
   "file_extension": ".py",
   "mimetype": "text/x-python",
   "name": "python",
   "nbconvert_exporter": "python",
   "pygments_lexer": "ipython3",
   "version": "3.7.1"
  }
 },
 "nbformat": 4,
 "nbformat_minor": 2
}
